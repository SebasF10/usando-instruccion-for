{
  "nbformat": 4,
  "nbformat_minor": 0,
  "metadata": {
    "colab": {
      "provenance": [],
      "authorship_tag": "ABX9TyNCbskI09lGu3p5lgBf9zWk",
      "include_colab_link": true
    },
    "kernelspec": {
      "name": "python3",
      "display_name": "Python 3"
    },
    "language_info": {
      "name": "python"
    }
  },
  "cells": [
    {
      "cell_type": "markdown",
      "metadata": {
        "id": "view-in-github",
        "colab_type": "text"
      },
      "source": [
        "<a href=\"https://colab.research.google.com/github/SebasF10/usando-instruccion-for/blob/main/for_1.ipynb\" target=\"_parent\"><img src=\"https://colab.research.google.com/assets/colab-badge.svg\" alt=\"Open In Colab\"/></a>"
      ]
    },
    {
      "cell_type": "code",
      "source": [
        "# programa 1 intrucciones for\n",
        "# mostrar la suam de los primero 10 numeros naturales\n",
        "\n",
        "#input\n",
        "\n",
        "#prosesing\n",
        "\n",
        "suma = 0\n",
        "serie = list(range(1,11))\n",
        "for i in range(1,11):\n",
        "  suma += i\n",
        "\n",
        "#ouput\n",
        "print(\"la suma es :\",suma)\n",
        "print(serie)"
      ],
      "metadata": {
        "colab": {
          "base_uri": "https://localhost:8080/"
        },
        "id": "9wh3ct1hS_27",
        "outputId": "1a0073fd-d692-4ccf-bac5-85200c186047"
      },
      "execution_count": null,
      "outputs": [
        {
          "output_type": "stream",
          "name": "stdout",
          "text": [
            "la suma es : 55\n",
            "[1, 2, 3, 4, 5, 6, 7, 8, 9, 10]\n"
          ]
        }
      ]
    },
    {
      "cell_type": "markdown",
      "source": [
        "# funcion range()\n",
        "\n",
        "es el rango de los valores accinados en su parentesis por ejemplo range(1,3) ejecuta los valores de 1,3 en este caso\n",
        "\n",
        "#ejemplo\n",
        "\n",
        "n = input(\"dime una frase que quieras repetir:\")\n",
        "\n",
        "r = int(input(\"cuantas veses quieres que se repita la frase:\"))\n",
        "\n",
        "for i in range(r):\n",
        "\n",
        "        print(n)\n",
        "\n",
        "es un ejemplo muy facil donde se usa el rango dado por el ususario y la palabra a repetir"
      ],
      "metadata": {
        "id": "63deWWSaWRKc"
      }
    },
    {
      "cell_type": "code",
      "source": [
        "# ejercicio 2 mostrar lo numero del 1 a 10 sin intrucciones repetitivas (usamos print)\n",
        "\n",
        "# procesing\n",
        "print(1)\n",
        "print(2)\n",
        "print(3)\n",
        "print(4)\n",
        "print(5)\n",
        "print(6)\n",
        "print(7)\n",
        "print(8)\n",
        "print(9)\n",
        "print(10)"
      ],
      "metadata": {
        "id": "z6CQWYUDPHyd"
      },
      "execution_count": null,
      "outputs": []
    },
    {
      "cell_type": "code",
      "source": [
        "# ejercicio 3 mostar los numero del 1 al 10 usando while\n",
        "\n",
        "# procesing\n",
        "i = 1\n",
        "while (i <= 10):\n",
        "  print(i)\n",
        "  i = i + 1"
      ],
      "metadata": {
        "id": "6lDp4BHIQU3h"
      },
      "execution_count": null,
      "outputs": []
    },
    {
      "cell_type": "code",
      "source": [
        "# ejercicio n.4 mostrar lo numero del 1 al 10 usando for\n",
        "\n",
        "# procesing\n",
        "for i in range(1,11):\n",
        "  print(i)\n"
      ],
      "metadata": {
        "id": "VgWJvz2rQmLG"
      },
      "execution_count": null,
      "outputs": []
    },
    {
      "cell_type": "code",
      "source": [
        "# ejercicio n.5 mostrar los numero del 1 al 10 usando una lista y un for\n",
        "\n",
        "# procesing\n",
        "mi_lista = [1,2,3,4,5,6,7,8,9,10]\n",
        "for i in mi_lista:\n",
        "  print(i)\n",
        "\n"
      ],
      "metadata": {
        "id": "0r3qIiC3Q6X2"
      },
      "execution_count": null,
      "outputs": []
    },
    {
      "cell_type": "code",
      "source": [
        "# ejercicio numero n.6 mostar un frase 10 veses usando la instruccion for y una lista\n",
        "\n",
        "# procesing\n",
        "mi_lista = [1,2,3,4,5,6,7,8,9,10]\n",
        "for i in mi_lista:\n",
        "  print(f\"{i} guanenta 200 años !\")\n"
      ],
      "metadata": {
        "id": "rTLw4Pf3UIyl"
      },
      "execution_count": null,
      "outputs": []
    },
    {
      "cell_type": "code",
      "source": [
        "# ejercicio n.7 mostrar la silaba inicial de los dias de la semana usando for y una lista\n",
        "\n",
        "# procesing\n",
        "dias_de_la_semana = [\"lun\",\"mar\",\"mie\",\"jue\",\"vier\",\"sab\",\"dom\"]\n",
        "for i in dias_de_la_semana:\n",
        "  print(i)"
      ],
      "metadata": {
        "id": "sTRuJx0pVjHB"
      },
      "execution_count": null,
      "outputs": []
    },
    {
      "cell_type": "code",
      "source": [
        "# ejercicio n.8 mostar un lista de diferentes datos usando el for\n",
        "mi_lista = [1, 3.14, 9, True, \"nesticor\", 8, \"Guanenta\"]\n",
        "for i in mi_lista:\n",
        "  print(i)"
      ],
      "metadata": {
        "id": "-6zY18G7WOs9"
      },
      "execution_count": null,
      "outputs": []
    },
    {
      "cell_type": "code",
      "source": [
        "# ejercicio n.9 ingresar su nombre y mostrarlo letra a letra usando for\n",
        "\n",
        "nombre = input(\"ingrese su nombre :\")\n",
        "for i in nombre:\n",
        "  print(i)"
      ],
      "metadata": {
        "id": "0fErylSdXWaI"
      },
      "execution_count": null,
      "outputs": []
    },
    {
      "cell_type": "code",
      "source": [
        "# ejercicio n.10 ingresar su nombre  y mostrandolo letra a letra en muys\n",
        "\n",
        "nombre = input(\"ingrese su nombre :\")\n",
        "for i in nombre:\n",
        "  print(i.upper())\n"
      ],
      "metadata": {
        "id": "9TgAkLIDXbnZ"
      },
      "execution_count": null,
      "outputs": []
    },
    {
      "cell_type": "code",
      "source": [
        "# ejercicio done se muestre un * en vez de una letra\n",
        "nombre = input(\"porfavor ingrese su nombre\")\n",
        "for i in nombre:\n",
        "  if i == \"e\":\n",
        "    print(\"*\")\n",
        "  else:\n",
        "    print(i)"
      ],
      "metadata": {
        "id": "QiuZ1SaTIbVS"
      },
      "execution_count": null,
      "outputs": []
    },
    {
      "cell_type": "markdown",
      "source": [
        "Taller estructura repetitiva for"
      ],
      "metadata": {
        "id": "TGVk0IFRHPn0"
      }
    },
    {
      "cell_type": "code",
      "source": [
        "# 1. Dada la siguiente lista de números [20,21,30,41,50,51,20], mostrar en pantalla solo los que no terminan en uno (1).\n",
        "numeros = [20, 21, 30, 41, 50, 51, 20]\n",
        "for i in numeros:\n",
        "    if i % 10 != 1:\n",
        "        print(i)\n"
      ],
      "metadata": {
        "id": "-D3oPRzNa1ZT"
      },
      "execution_count": null,
      "outputs": []
    },
    {
      "cell_type": "code",
      "source": [
        "# 2. Mostrar mil veces la palabra \"Programación\"\n",
        "for i in range(1,1001):\n",
        "  print(\"programacion\")\n",
        "\n"
      ],
      "metadata": {
        "id": "PJAHxa0XHviO"
      },
      "execution_count": null,
      "outputs": []
    },
    {
      "cell_type": "code",
      "source": [
        "# ejercicio N.3 Del conjunto de cadenas [\"E\", \"F\", \"M\", \"A\"] que corresponde a las iniciales de los 4 primeros meses del año, mostrar el nombre completo de dichos meses.\n",
        "meses = [\"E\",\"F\",\"M\",\"A\"]\n",
        "for i in meses:\n",
        "  if i == \"E\":\n",
        "    print(\"enero\")\n",
        "  elif i == \"F\":\n",
        "    print(\"febrero\")\n",
        "  elif i == \"M\":\n",
        "    print(\"marzo\")\n",
        "  elif i == \"A\":\n",
        "    print(\"abril\")\n",
        "\n"
      ],
      "metadata": {
        "colab": {
          "base_uri": "https://localhost:8080/"
        },
        "id": "GUWevPH8WNgd",
        "outputId": "327dac08-fbb5-47ba-fa13-4456e9035952"
      },
      "execution_count": null,
      "outputs": [
        {
          "output_type": "stream",
          "name": "stdout",
          "text": [
            "enero\n",
            "febrero\n",
            "marzo\n",
            "abril\n"
          ]
        }
      ]
    },
    {
      "cell_type": "code",
      "source": [
        "# 4. Leer un texto y determinar cuántas veces dicho texto contiene cada una de las vocales en minúscula y mayúscula.\n",
        "\n",
        "texto = input(\"Ingrese el texto: \")\n",
        "\n",
        "minus = 0\n",
        "mayus = 0\n",
        "a = 0\n",
        "e = 0\n",
        "x = 0\n",
        "o = 0\n",
        "u = 0\n",
        "A = 0\n",
        "E = 0\n",
        "I = 0\n",
        "O = 0\n",
        "U = 0\n",
        "\n",
        "for i in texto:\n",
        "  if i == \"a\":\n",
        "    minus += 1\n",
        "    a += 1\n",
        "  elif i == \"e\":\n",
        "    minus += 1\n",
        "    e += 1\n",
        "  elif i == \"i\":\n",
        "    x += 1\n",
        "    minus += 1\n",
        "  elif i == \"o\":\n",
        "    o += 1\n",
        "    minus += 1\n",
        "  elif i == \"u\":\n",
        "    u += 1\n",
        "    minus += 1\n",
        "  elif i == \"A\":\n",
        "    A += 1\n",
        "    mayus += 1\n",
        "  elif i == \"E\":\n",
        "    E += 1\n",
        "    mayus += 1\n",
        "  elif i == \"I\":\n",
        "    I += 1\n",
        "    mayus += 1\n",
        "  elif i == \"O\":\n",
        "    O += 1\n",
        "    mayus += 1\n",
        "  elif i == \"U\":\n",
        "    A += 1\n",
        "    mayus += 1\n",
        "print(\"------------------------------------------\")\n",
        "print(\"hay un total de\",mayus,\"vocales mayusculas\")\n",
        "print(\"hay un total de\",minus,\"vocales minusculas\")\n",
        "print(\"------------------------------------------\")\n",
        "print(\"fueron\",a,\"vocales a minusculas\")\n",
        "print(\"fueron\",e,\"vocales e minusculas\")\n",
        "print(\"fueron\",x,\"vocales i minusculas\")\n",
        "print(\"fueron\",o,\"vocales o minusculas\")\n",
        "print(\"fueron\",u,\"vocales u minusculas\")\n",
        "print(\"------------------------------------------\")\n",
        "print(\"fueron\",A,\"vocales A mayusculas\")\n",
        "print(\"fueron\",E,\"vocales E mayusculas\")\n",
        "print(\"fueron\",I,\"vocales I mayusculas\")\n",
        "print(\"fueron\",O,\"vocales O mayusculas\")\n",
        "print(\"fueron\",U,\"vocales U mayusculas\")\n",
        "print(\"------------------------------------------\")\n",
        "\n",
        "\n",
        "\n"
      ],
      "metadata": {
        "id": "9aLTx_T9WB5F"
      },
      "execution_count": null,
      "outputs": []
    },
    {
      "cell_type": "markdown",
      "source": [
        " ## 5. Consulte cómo se representa en un diagrama de flujo la instrucción repetitiva for\n",
        "\n",
        "En un diagrama de flujo, la instrucción repetitiva for se representa sustancialmente con un óvalo de inicio, seguida de un rectángulo que contiene la palabra clave for, seguida de una variable de iteración y el rango sobre el cual iterar. Luego, dentro del rectángulo, se colocan las acciones que se realizarán en cada iteración. Finalmente, se conecta nuevamente al inicio del ciclo hasta que se cumpla una condición de salida. Aquí hay una descripción paso a paso de cómo se podría representar en un diagrama de flujo: 1. Inicio: Se comienza con un óvalo que representa el inicio del programa o función.\n",
        "\n"
      ],
      "metadata": {
        "id": "mZekQ_VScalw"
      }
    },
    {
      "cell_type": "code",
      "source": [
        "# 6. Leer 20 números enteros y averiguar cuántos son pares y cuántos son impares.\n",
        "\n",
        "pares = 0\n",
        "impares = 0\n",
        "\n",
        "for i in range(20):\n",
        "    numero = int(input(\"Introduce un número entero: \"))\n",
        "    if numero % 2 == 0:\n",
        "        pares += 1\n",
        "    else:\n",
        "        impares += 1\n",
        "\n",
        "# Imprimir resultados\n",
        "print(\"Cantidad de números pares:\", pares)\n",
        "print(\"Cantidad de números impares:\", impares)"
      ],
      "metadata": {
        "id": "zW3Vk7lDeoSU"
      },
      "execution_count": null,
      "outputs": []
    },
    {
      "cell_type": "code",
      "source": [
        "# 7. Programa que averigüe e imprima cuántos múltiplos de 7, y cuántos múltiplos de 9, hay en los números comprendidos entre 1000 y 5000.\n",
        "\n",
        "mul7 = 0\n",
        "mul9 = 0\n",
        "\n",
        "for i in range(1000,5001):\n",
        "   if i % 7 == 0:\n",
        "      mul7 += 1\n",
        "   if i % 9 == 0:\n",
        "      mul9 += 1\n",
        "\n",
        "print(mul7,\"son multiplos de 7\")\n",
        "print(mul9,\"son multiplos de 9\")\n"
      ],
      "metadata": {
        "id": "NxdFV-4Smlq6"
      },
      "execution_count": null,
      "outputs": []
    },
    {
      "cell_type": "code",
      "source": [
        "import random\n",
        "# 8. Simular el lanzamiento de N dados, y contar cuántas veces cae cada cara, añadiendo un histograma para cada uno.  El histograma puede ser creado con asteriscos o cualquier otro caracter.\n",
        "\n",
        "a = []\n",
        "b = []\n",
        "c = []\n",
        "d = []\n",
        "e = []\n",
        "g = []\n",
        "for i in range(100):\n",
        "    n = random.randint(1, 6)  # Genera un número aleatorio del 1 al 6\n",
        "    if n == 1:\n",
        "      a.append(\"*\")\n",
        "      A += 1\n",
        "    if n == 2:\n",
        "      b.append(\"*\")\n",
        "      B += 1\n",
        "    if n == 3:\n",
        "      c.append(\"*\")\n",
        "      C += 1\n",
        "    if n == 4:\n",
        "      d.append(\"*\")\n",
        "    if n == 5:\n",
        "      e.append(\"*\")\n",
        "    if n == 6:\n",
        "      g.append(\"*\")\n",
        "\n",
        "print(a)\n",
        "print(b)\n",
        "print(c)\n",
        "print(d)\n",
        "print(e)\n",
        "print(g)\n",
        "\n",
        "\n"
      ],
      "metadata": {
        "colab": {
          "base_uri": "https://localhost:8080/"
        },
        "id": "eJgtHY5JoBrv",
        "outputId": "98cc8b7a-c271-4cf1-e6f2-7693c7b70eb6"
      },
      "execution_count": 93,
      "outputs": [
        {
          "output_type": "stream",
          "name": "stdout",
          "text": [
            "['*', '*', '*', '*', '*', '*', '*', '*', '*', '*', '*', '*', '*', '*', '*', '*']\n",
            "['*', '*', '*', '*', '*', '*', '*', '*', '*', '*', '*', '*', '*', '*', '*', '*', '*']\n",
            "['*', '*', '*', '*', '*', '*', '*', '*', '*', '*', '*', '*', '*', '*', '*', '*', '*']\n",
            "['*', '*', '*', '*', '*', '*', '*', '*', '*', '*']\n",
            "['*', '*', '*', '*', '*', '*', '*', '*', '*', '*', '*', '*', '*', '*', '*', '*', '*', '*', '*', '*', '*']\n",
            "['*', '*', '*', '*', '*', '*', '*', '*', '*', '*', '*', '*', '*', '*', '*', '*', '*', '*', '*']\n"
          ]
        }
      ]
    },
    {
      "cell_type": "markdown",
      "source": [
        "## 9.1 que es un factorial\n",
        "\n",
        "Un factorial es un concepto matemático que denota el producto de todos los números enteros positivos desde 1 hasta un número dado. Se representa con el símbolo \"!\". Por ejemplo, el factorial de 5 (denotado como 5!) es igual a 5 × 4 × 3 × 2 × 1, que resulta en 120. En general, el factorial de un número n se denota como n! y se calcula multiplicando todos los números enteros positivos desde 1 hasta n. Los factoriales son utilizados en diversas áreas de las matemáticas, como la combinatoria, la probabilidad y la teoría de números."
      ],
      "metadata": {
        "id": "xSdWQBm0rqBG"
      }
    },
    {
      "cell_type": "code",
      "source": [
        "# 9.2 Programa para calcular el factorial de un número.  Consulte previamente qué es el factorial de un número.\n",
        "\n",
        "numero = int(input(\"Introduce un número entero: \"))\n",
        "\n",
        "if numero < 0:\n",
        "    print(\"El factorial no está definido para números negativos.\")\n",
        "elif numero == 0:\n",
        "    print(\"El factorial de 0 es 1.\")\n",
        "else:\n",
        "    factorial = 1\n",
        "    for i in range(1, numero + 1):\n",
        "        factorial *= i\n",
        "    print(\"El factorial de\", numero, \"es:\", factorial)\n",
        "\n"
      ],
      "metadata": {
        "id": "ENkbX54mpibR"
      },
      "execution_count": null,
      "outputs": []
    },
    {
      "cell_type": "code",
      "source": [
        "# 10. Crear un programa que imprima la siguiente serie numérica: 1,4,9,16,25,36,49,64,81,100\n",
        "for i in range(1, 11):\n",
        "    print(i ** 2, end=\", \" if i < 10 else \"\")"
      ],
      "metadata": {
        "colab": {
          "base_uri": "https://localhost:8080/"
        },
        "id": "dRnbkUb4srJ6",
        "outputId": "e675c714-87f6-4e0e-cb0d-b280959eeef3"
      },
      "execution_count": 68,
      "outputs": [
        {
          "output_type": "stream",
          "name": "stdout",
          "text": [
            "1, 4, 9, 16, 25, 36, 49, 64, 81, 100"
          ]
        }
      ]
    }
  ]
}